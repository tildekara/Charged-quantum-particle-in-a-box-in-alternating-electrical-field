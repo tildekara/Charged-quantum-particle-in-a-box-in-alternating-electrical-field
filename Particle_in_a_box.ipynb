{
 "cells": [
  {
   "cell_type": "code",
   "execution_count": null,
   "metadata": {
    "collapsed": true
   },
   "outputs": [],
   "source": [
    "n_g = 100 #n_grid number of meshes on a grid\n",
    "x, dx = np.linspace(0,1, n_g, retstep = True) \n",
    "n = 1\n",
    "kappa, omega_resonance = 1, 1.5*np.pi**2\n",
    "\n",
    "def hamiltonian(psi, tau, omega):\n",
    "    result = np.zeros_like(psi)\n",
    "    part1 = -0.5*(-2*psi[1:-1]+psi[0:-2]+psi[2:])/(dx**2)\n",
    "    result[1:-1] = part1\n",
    "    result[1:-1] += kappa*(x[1:-1]-0.5)*psi[1:-1]*np.sin(omega*tau)\n",
    "    return result\n",
    "\n",
    "\n",
    "dt = 0.0001\n",
    "n_t = 50/dt #number of points in time\n",
    "T = np.arange(n_t)*dt\n",
    "norm_time = np.zeros_like(T)\n",
    "x_avg_time = np.zeros_like(T)\n",
    "E_total_time = np.zeros_like(T)\n",
    "omegi = np.linspace(0.75 * omega_resonance, 1.25 * omega_resonance, 30)\n",
    "omega = 1.5*np.pi**2\n",
    "\n",
    "psi_R = np.sqrt(2)*np.sin(n*np.pi*x)\n",
    "psi_I = np.zeros_like(x)\n",
    "\n",
    "for i, t in enumerate(T):\n",
    "    absolute_val = psi_R**2+psi_I**2\n",
    "    norm = dx*np.sum(absolute_val)\n",
    "    x_avg = dx*np.sum(x*absolute_val)\n",
    "    E_total = dx*np.sum(psi_R*hamiltonian(psi_R,t, omega)+psi_I*hamiltonian(psi_I, omega,t))\n",
    "\n",
    "    norm_time[i] = norm\n",
    "    x_avg_time[i] = x_avg\n",
    "    E_total_time[i] = E_total\n",
    "\n",
    "    psi_R = psi_R + hamiltonian(psi_I, omega, t)*(0.5*dt)\n",
    "    psi_I = psi_I - hamiltonian(psi_R, omega, t+(0.5*dt))*dt\n",
    "    psi_R = psi_R + hamiltonian(psi_I, omega, t+dt)*0.5*dt\n",
    "\n",
    "\n",
    "fig, (norm_ax, x_avg_ax, E_ax) = plt.subplots(3)\n",
    "norm_ax.plot(T, norm_time)\n",
    "norm_ax.set_ylim(0,2)\n",
    "norm_ax.set_ylabel(\"norm\")\n",
    "\n",
    "x_avg_ax.plot(T, x_avg_time)\n",
    "x_avg_ax.set_ylim(0,1)\n",
    "x_avg_ax.set_ylabel(\"<x>\")\n",
    "\n",
    "E_ax.plot(T, E_total_time)\n",
    "E_ax.set_ylabel(\"E\")\n",
    "#E_ax.set_ylim(4,6)\n",
    "\n",
    "E_ax.set_xlabel(\"t\")\n",
    "plt.show()"
   ]
  }
 ],
 "metadata": {
  "kernelspec": {
   "display_name": "Python 3",
   "language": "python",
   "name": "python3"
  },
  "language_info": {
   "codemirror_mode": {
    "name": "ipython",
    "version": 3
   },
   "file_extension": ".py",
   "mimetype": "text/x-python",
   "name": "python",
   "nbconvert_exporter": "python",
   "pygments_lexer": "ipython3",
   "version": "3.5.1"
  }
 },
 "nbformat": 4,
 "nbformat_minor": 0
}
